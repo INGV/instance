{
 "cells": [
  {
   "cell_type": "markdown",
   "metadata": {},
   "source": [
    "# **How to plot data on maps**"
   ]
  },
  {
   "cell_type": "code",
   "execution_count": 1,
   "metadata": {},
   "outputs": [],
   "source": [
    "import string\n",
    "import time\n",
    "import argparse as ap\n",
    "import sys\n",
    "import os\n",
    "import obspy\n",
    "import numpy as np\n",
    "import obspy.core as oc\n",
    "import matplotlib as mpl\n",
    "import matplotlib.pyplot as plt\n",
    "mpl.rcParams['pdf.fonttype'] = 42\n",
    "from datetime import datetime, timedelta\n",
    "from obspy.imaging.beachball import beachball, beach, mt2plane, tdl, mt2axes, MomentTensor\n",
    "from matplotlib.patches import Polygon\n",
    "from mpl_toolkits.basemap import Basemap\n",
    "from matplotlib.colors import Normalize\n",
    "from matplotlib.cm import ScalarMappable\n",
    "\n",
    "import pylab as plt\n",
    "import pandas as pd\n",
    "import h5py\n",
    "\n",
    "\n",
    "from obspy import read_inventory\n"
   ]
  },
  {
   "cell_type": "code",
   "execution_count": 2,
   "metadata": {},
   "outputs": [],
   "source": [
    "# generate the fault plane solutions from the moment tensor component\n",
    "# it is needed by pandas\n",
    "def MT2plane1(row):\n",
    "    mt_values = [row['m_rr'], row['m_tt'], row['m_pp'], row['m_rt'], row['m_rp'], row['m_tp']]\n",
    "    mt_values_MT = MomentTensor(mt_values,26)\n",
    "    plane = mt2plane(mt_values_MT)\n",
    "    return plane.strike, plane.dip, plane.rake"
   ]
  },
  {
   "cell_type": "code",
   "execution_count": 3,
   "metadata": {},
   "outputs": [],
   "source": [
    "def shoot(lon, lat, azimuth, maxdist=None):\n",
    "    \"\"\"Shooter Function\n",
    "    Original javascript on http://williams.best.vwh.net/gccalc.htm\n",
    "    Translated to python by Thomas Lecocq\n",
    "    \"\"\"\n",
    "    glat1 = lat * np.pi / 180.\n",
    "    glon1 = lon * np.pi / 180.\n",
    "    s = maxdist / 1.852\n",
    "    faz = azimuth * np.pi / 180.\n",
    "\n",
    "    EPS= 0.00000000005\n",
    "    if ((np.abs(np.cos(glat1))<EPS) and not (np.abs(np.sin(faz))<EPS)):\n",
    "        alert(\"Only N-S courses are meaningful, starting at a pole!\")\n",
    "\n",
    "    a=6378.13/1.852\n",
    "    f=1/298.257223563\n",
    "    r = 1 - f\n",
    "    tu = r * np.tan(glat1)\n",
    "    sf = np.sin(faz)\n",
    "    cf = np.cos(faz)\n",
    "    if (cf==0):\n",
    "        b=0.\n",
    "    else:\n",
    "        b=2. * np.arctan2 (tu, cf)\n",
    "\n",
    "    cu = 1. / np.sqrt(1 + tu * tu)\n",
    "    su = tu * cu\n",
    "    sa = cu * sf\n",
    "    c2a = 1 - sa * sa\n",
    "    x = 1. + np.sqrt(1. + c2a * (1. / (r * r) - 1.))\n",
    "    x = (x - 2.) / x\n",
    "    c = 1. - x\n",
    "    c = (x * x / 4. + 1.) / c\n",
    "    d = (0.375 * x * x - 1.) * x\n",
    "    tu = s / (r * a * c)\n",
    "    y = tu\n",
    "    c = y + 1\n",
    "    while (np.abs (y - c) > EPS):\n",
    "\n",
    "        sy = np.sin(y)\n",
    "        cy = np.cos(y)\n",
    "        cz = np.cos(b + y)\n",
    "        e = 2. * cz * cz - 1.\n",
    "        c = y\n",
    "        x = e * cy\n",
    "        y = e + e - 1.\n",
    "        y = (((sy * sy * 4. - 3.) * y * cz * d / 6. + x) *\n",
    "              d / 4. - cz) * sy * d + tu\n",
    "\n",
    "    b = cu * cy * cf - su * sy\n",
    "    c = r * np.sqrt(sa * sa + b * b)\n",
    "    d = su * cy + cu * sy * cf\n",
    "    glat2 = (np.arctan2(d, c) + np.pi) % (2*np.pi) - np.pi\n",
    "    c = cu * cy - su * sy * cf\n",
    "    x = np.arctan2(sy * sf, c)\n",
    "    c = ((-3. * c2a + 4.) * f + 4.) * c2a * f / 16.\n",
    "    d = ((e * cy * c + cz) * sy * c + y) * sa\n",
    "    glon2 = ((glon1 + x - (1. - c) * d * f + np.pi) % (2*np.pi)) - np.pi\t\n",
    "\n",
    "    baz = (np.arctan2(sa, b) + np.pi) % (2 * np.pi)\n",
    "\n",
    "    glon2 *= 180./np.pi\n",
    "    glat2 *= 180./np.pi\n",
    "    baz *= 180./np.pi\n",
    "\n",
    "    return (glon2, glat2, baz)\n",
    "\n",
    "def equi(m, centerlon, centerlat, radius, *args, **kwargs):\n",
    "    glon1 = centerlon\n",
    "    glat1 = centerlat\n",
    "    X = []\n",
    "    Y = []\n",
    "    for azimuth in range(0, 360):\n",
    "        glon2, glat2, baz = shoot(glon1, glat1, azimuth, radius)\n",
    "        X.append(glon2)\n",
    "        Y.append(glat2)\n",
    "    X.append(X[0])\n",
    "    Y.append(Y[0])\n",
    "\n",
    "    #~ m.plot(X,Y,**kwargs) #Should work, but doesn't...\n",
    "    X,Y = m(X,Y)\n",
    "    plt.plot(X,Y,**kwargs)\n",
    "\n"
   ]
  },
  {
   "cell_type": "markdown",
   "metadata": {},
   "source": [
    "### Read Instance metadata"
   ]
  },
  {
   "cell_type": "code",
   "execution_count": 4,
   "metadata": {},
   "outputs": [],
   "source": [
    "METADIR = '../metadata'\n",
    "HDFDIR = '../data'\n",
    "FIGDIR='../output'\n",
    "\n",
    "# data\n",
    "events_metaname=os.path.join(METADIR,'metadata_Instance_events_10k.csv') # Either Counts and GroundMotion\n",
    "events_hdfname=os.path.join(HDFDIR,'Instance_events_counts_10k.hdf5')\n"
   ]
  },
  {
   "cell_type": "code",
   "execution_count": 5,
   "metadata": {},
   "outputs": [
    {
     "name": "stderr",
     "output_type": "stream",
     "text": [
      "/Users/christopher.zerafa/opt/anaconda3/envs/instance/lib/python3.7/site-packages/IPython/core/interactiveshell.py:3170: DtypeWarning: Columns (56,57,61,74,75,76,78,86,94,102) have mixed types.Specify dtype option on import or set low_memory=False.\n",
      "  interactivity=interactivity, compiler=compiler, result=result)\n"
     ]
    }
   ],
   "source": [
    "events_metaData = pd.read_csv(events_metaname, keep_default_na=False, dtype={'station_location_code': object, \n",
    "           'source_mt_eval_mode':object,'source_mt_status': object,'source_mechanism_strike_dip_rake': object, \n",
    "           'source_mechanism_moment_tensor': object, 'trace_p_arrival_time': object, 'trace_s_arrival_time': object})"
   ]
  },
  {
   "cell_type": "markdown",
   "metadata": {},
   "source": [
    "## Generate hypocenter map (Figure 1a)"
   ]
  },
  {
   "cell_type": "code",
   "execution_count": 6,
   "metadata": {},
   "outputs": [],
   "source": [
    "# generate first the stations\n",
    "df_eq0 = events_metaData[['source_id', 'source_origin_time', 'source_latitude_deg',\n",
    "       'source_longitude_deg','source_depth_km', 'source_magnitude']].groupby('source_id').mean()\n",
    "# count using sta_lat as dummy index\n",
    "df_eq1 = events_metaData[['source_id', 'source_magnitude']].groupby('source_id').count()\n",
    "# rename\n",
    "df_eq1.rename(columns={'source_magnitude': \"counts\"},inplace=True)\n",
    "\n",
    "# generate the dataframe\n",
    "df_eq = pd.concat([df_eq0,df_eq1], axis=1)"
   ]
  },
  {
   "cell_type": "code",
   "execution_count": 7,
   "metadata": {},
   "outputs": [],
   "source": [
    "# Define symbol dimension as a funcion of source magnitude\n",
    "mag_size = []\n",
    "f = 2.0\n",
    "for m in df_eq.source_magnitude.values:\n",
    "    if m <= 1.0: fact  = f*1.\n",
    "    if m > 1.0 and m <= 2.0: fact  = f*4\n",
    "    if m > 2.0 and m <= 3.0: fact  = f*8\n",
    "    if m > 3.0 and m <= 4.0: fact  = f*16\n",
    "    if m > 4.0 and m <= 5.0: fact  = f*32\n",
    "    if m > 5.0 and m <= 6.0: fact  = f*64\n",
    "    if m > 6.0 and m <= 7.0: fact  = f*128\n",
    "    if m > 7.0: fact  = f*150\n",
    "    mag_size.append(fact)"
   ]
  },
  {
   "cell_type": "code",
   "execution_count": 8,
   "metadata": {
    "scrolled": true
   },
   "outputs": [],
   "source": [
    "# Define symbol color as a function of hypocenter depth \n",
    "\n",
    "indexList = df_eq['source_depth_km'].tolist()\n",
    "minIndex = min(indexList)\n",
    "maxIndex = max(indexList)\n",
    "\n",
    "# Figure out colors for each index\n",
    "norm = Normalize(vmin=minIndex, vmax=maxIndex, clip=False)\n",
    "mapper=ScalarMappable(norm=norm, cmap='gist_rainbow')"
   ]
  },
  {
   "cell_type": "code",
   "execution_count": 9,
   "metadata": {},
   "outputs": [
    {
     "name": "stderr",
     "output_type": "stream",
     "text": [
      "/Users/christopher.zerafa/opt/anaconda3/envs/instance/lib/python3.7/site-packages/pyproj/crs/crs.py:53: FutureWarning: '+init=<authority>:<code>' syntax is deprecated. '<authority>:<code>' is the preferred initialization method. When making the change, be mindful of axis order changes: https://pyproj4.github.io/pyproj/stable/gotchas.html#axis-order-changes-in-proj-6\n",
      "  return _prepare_from_string(\" \".join(pjargs))\n",
      "/Users/christopher.zerafa/opt/anaconda3/envs/instance/lib/python3.7/site-packages/pyproj/crs/crs.py:294: FutureWarning: '+init=<authority>:<code>' syntax is deprecated. '<authority>:<code>' is the preferred initialization method. When making the change, be mindful of axis order changes: https://pyproj4.github.io/pyproj/stable/gotchas.html#axis-order-changes-in-proj-6\n",
      "  projstring = _prepare_from_string(\" \".join((projstring, projkwargs)))\n"
     ]
    },
    {
     "name": "stdout",
     "output_type": "stream",
     "text": [
      "http://server.arcgisonline.com/ArcGIS/rest/services/World_Shaded_Relief/MapServer/export?bbox=1134875.1181083398,3880421.5902592237,2394467.097024135,5386501.151992768&bboxSR=3003&imageSR=3003&size=500,597&dpi=96&format=png32&transparent=true&f=image\n"
     ]
    },
    {
     "ename": "UnsupportedOperation",
     "evalue": "seek",
     "output_type": "error",
     "traceback": [
      "\u001b[0;31m---------------------------------------------------------------------------\u001b[0m",
      "\u001b[0;31mUnsupportedOperation\u001b[0m                      Traceback (most recent call last)",
      "\u001b[0;32m<ipython-input-9-70302f85def1>\u001b[0m in \u001b[0;36m<module>\u001b[0;34m\u001b[0m\n\u001b[1;32m     18\u001b[0m \u001b[0;31m# m = Basemap(resolution='l',projection='robin',lon_0=0)\u001b[0m\u001b[0;34m\u001b[0m\u001b[0;34m\u001b[0m\u001b[0;34m\u001b[0m\u001b[0m\n\u001b[1;32m     19\u001b[0m \u001b[0mm\u001b[0m \u001b[0;34m=\u001b[0m \u001b[0mBasemap\u001b[0m\u001b[0;34m(\u001b[0m\u001b[0mllcrnrlon\u001b[0m\u001b[0;34m=\u001b[0m\u001b[0mita\u001b[0m\u001b[0;34m[\u001b[0m\u001b[0;36m0\u001b[0m\u001b[0;34m]\u001b[0m\u001b[0;34m,\u001b[0m\u001b[0mllcrnrlat\u001b[0m\u001b[0;34m=\u001b[0m\u001b[0mita\u001b[0m\u001b[0;34m[\u001b[0m\u001b[0;36m1\u001b[0m\u001b[0;34m]\u001b[0m\u001b[0;34m,\u001b[0m\u001b[0murcrnrlon\u001b[0m\u001b[0;34m=\u001b[0m\u001b[0mita\u001b[0m\u001b[0;34m[\u001b[0m\u001b[0;36m2\u001b[0m\u001b[0;34m]\u001b[0m\u001b[0;34m,\u001b[0m\u001b[0murcrnrlat\u001b[0m\u001b[0;34m=\u001b[0m\u001b[0mita\u001b[0m\u001b[0;34m[\u001b[0m\u001b[0;36m3\u001b[0m\u001b[0;34m]\u001b[0m\u001b[0;34m,\u001b[0m \u001b[0mepsg\u001b[0m\u001b[0;34m=\u001b[0m\u001b[0;36m3003\u001b[0m\u001b[0;34m)\u001b[0m\u001b[0;34m\u001b[0m\u001b[0;34m\u001b[0m\u001b[0m\n\u001b[0;32m---> 20\u001b[0;31m \u001b[0mm\u001b[0m\u001b[0;34m.\u001b[0m\u001b[0marcgisimage\u001b[0m\u001b[0;34m(\u001b[0m\u001b[0mservice\u001b[0m\u001b[0;34m=\u001b[0m\u001b[0;34m'World_Shaded_Relief'\u001b[0m\u001b[0;34m,\u001b[0m \u001b[0mxpixels\u001b[0m \u001b[0;34m=\u001b[0m \u001b[0;36m500\u001b[0m\u001b[0;34m,\u001b[0m \u001b[0mverbose\u001b[0m\u001b[0;34m=\u001b[0m \u001b[0;32mTrue\u001b[0m\u001b[0;34m)\u001b[0m\u001b[0;34m\u001b[0m\u001b[0;34m\u001b[0m\u001b[0m\n\u001b[0m\u001b[1;32m     21\u001b[0m \u001b[0;34m\u001b[0m\u001b[0m\n\u001b[1;32m     22\u001b[0m \u001b[0mm\u001b[0m\u001b[0;34m.\u001b[0m\u001b[0mdrawparallels\u001b[0m\u001b[0;34m(\u001b[0m\u001b[0mnp\u001b[0m\u001b[0;34m.\u001b[0m\u001b[0marange\u001b[0m\u001b[0;34m(\u001b[0m\u001b[0mitalatmin\u001b[0m\u001b[0;34m,\u001b[0m\u001b[0mitalatmax\u001b[0m\u001b[0;34m,\u001b[0m\u001b[0;36m2.\u001b[0m\u001b[0;34m)\u001b[0m\u001b[0;34m,\u001b[0m\u001b[0mlinewidth\u001b[0m\u001b[0;34m=\u001b[0m\u001b[0;36m0.5\u001b[0m\u001b[0;34m,\u001b[0m\u001b[0mlabels\u001b[0m\u001b[0;34m=\u001b[0m\u001b[0;34m[\u001b[0m\u001b[0;36m1\u001b[0m\u001b[0;34m,\u001b[0m\u001b[0;36m0\u001b[0m\u001b[0;34m,\u001b[0m\u001b[0;36m0\u001b[0m\u001b[0;34m,\u001b[0m\u001b[0;36m0\u001b[0m\u001b[0;34m]\u001b[0m\u001b[0;34m,\u001b[0m\u001b[0mfontsize\u001b[0m\u001b[0;34m=\u001b[0m\u001b[0;36m14\u001b[0m\u001b[0;34m)\u001b[0m\u001b[0;34m\u001b[0m\u001b[0;34m\u001b[0m\u001b[0m\n",
      "\u001b[0;32m~/opt/anaconda3/envs/instance/lib/python3.7/site-packages/mpl_toolkits/basemap/__init__.py\u001b[0m in \u001b[0;36marcgisimage\u001b[0;34m(self, server, service, xpixels, ypixels, dpi, verbose, **kwargs)\u001b[0m\n\u001b[1;32m   4271\u001b[0m         \u001b[0;32mif\u001b[0m \u001b[0mverbose\u001b[0m\u001b[0;34m:\u001b[0m \u001b[0mprint\u001b[0m\u001b[0;34m(\u001b[0m\u001b[0mbasemap_url\u001b[0m\u001b[0;34m)\u001b[0m\u001b[0;34m\u001b[0m\u001b[0;34m\u001b[0m\u001b[0m\n\u001b[1;32m   4272\u001b[0m         \u001b[0;31m# return AxesImage instance.\u001b[0m\u001b[0;34m\u001b[0m\u001b[0;34m\u001b[0m\u001b[0;34m\u001b[0m\u001b[0m\n\u001b[0;32m-> 4273\u001b[0;31m         return self.imshow(imread(urlopen(basemap_url)),ax=ax,\n\u001b[0m\u001b[1;32m   4274\u001b[0m                            origin='upper')\n\u001b[1;32m   4275\u001b[0m \u001b[0;34m\u001b[0m\u001b[0m\n",
      "\u001b[0;32m~/opt/anaconda3/envs/instance/lib/python3.7/site-packages/matplotlib/image.py\u001b[0m in \u001b[0;36mimread\u001b[0;34m(fname, format)\u001b[0m\n\u001b[1;32m   1499\u001b[0m                     \u001b[0mresponse\u001b[0m \u001b[0;34m=\u001b[0m \u001b[0mio\u001b[0m\u001b[0;34m.\u001b[0m\u001b[0mBytesIO\u001b[0m\u001b[0;34m(\u001b[0m\u001b[0mresponse\u001b[0m\u001b[0;34m.\u001b[0m\u001b[0mread\u001b[0m\u001b[0;34m(\u001b[0m\u001b[0;34m)\u001b[0m\u001b[0;34m)\u001b[0m\u001b[0;34m\u001b[0m\u001b[0;34m\u001b[0m\u001b[0m\n\u001b[1;32m   1500\u001b[0m                 \u001b[0;32mreturn\u001b[0m \u001b[0mimread\u001b[0m\u001b[0;34m(\u001b[0m\u001b[0mresponse\u001b[0m\u001b[0;34m,\u001b[0m \u001b[0mformat\u001b[0m\u001b[0;34m=\u001b[0m\u001b[0mext\u001b[0m\u001b[0;34m)\u001b[0m\u001b[0;34m\u001b[0m\u001b[0;34m\u001b[0m\u001b[0m\n\u001b[0;32m-> 1501\u001b[0;31m     \u001b[0;32mwith\u001b[0m \u001b[0mimg_open\u001b[0m\u001b[0;34m(\u001b[0m\u001b[0mfname\u001b[0m\u001b[0;34m)\u001b[0m \u001b[0;32mas\u001b[0m \u001b[0mimage\u001b[0m\u001b[0;34m:\u001b[0m\u001b[0;34m\u001b[0m\u001b[0;34m\u001b[0m\u001b[0m\n\u001b[0m\u001b[1;32m   1502\u001b[0m         return (_pil_png_to_float_array(image)\n\u001b[1;32m   1503\u001b[0m                 \u001b[0;32mif\u001b[0m \u001b[0misinstance\u001b[0m\u001b[0;34m(\u001b[0m\u001b[0mimage\u001b[0m\u001b[0;34m,\u001b[0m \u001b[0mPIL\u001b[0m\u001b[0;34m.\u001b[0m\u001b[0mPngImagePlugin\u001b[0m\u001b[0;34m.\u001b[0m\u001b[0mPngImageFile\u001b[0m\u001b[0;34m)\u001b[0m \u001b[0;32melse\u001b[0m\u001b[0;34m\u001b[0m\u001b[0;34m\u001b[0m\u001b[0m\n",
      "\u001b[0;32m~/opt/anaconda3/envs/instance/lib/python3.7/site-packages/PIL/ImageFile.py\u001b[0m in \u001b[0;36m__init__\u001b[0;34m(self, fp, filename)\u001b[0m\n\u001b[1;32m    119\u001b[0m         \u001b[0;32mtry\u001b[0m\u001b[0;34m:\u001b[0m\u001b[0;34m\u001b[0m\u001b[0;34m\u001b[0m\u001b[0m\n\u001b[1;32m    120\u001b[0m             \u001b[0;32mtry\u001b[0m\u001b[0;34m:\u001b[0m\u001b[0;34m\u001b[0m\u001b[0;34m\u001b[0m\u001b[0m\n\u001b[0;32m--> 121\u001b[0;31m                 \u001b[0mself\u001b[0m\u001b[0;34m.\u001b[0m\u001b[0m_open\u001b[0m\u001b[0;34m(\u001b[0m\u001b[0;34m)\u001b[0m\u001b[0;34m\u001b[0m\u001b[0;34m\u001b[0m\u001b[0m\n\u001b[0m\u001b[1;32m    122\u001b[0m             except (\n\u001b[1;32m    123\u001b[0m                 \u001b[0mIndexError\u001b[0m\u001b[0;34m,\u001b[0m  \u001b[0;31m# end of data\u001b[0m\u001b[0;34m\u001b[0m\u001b[0;34m\u001b[0m\u001b[0m\n",
      "\u001b[0;32m~/opt/anaconda3/envs/instance/lib/python3.7/site-packages/PIL/PngImagePlugin.py\u001b[0m in \u001b[0;36m_open\u001b[0;34m(self)\u001b[0m\n\u001b[1;32m    689\u001b[0m             \u001b[0;31m# get next chunk\u001b[0m\u001b[0;34m\u001b[0m\u001b[0;34m\u001b[0m\u001b[0;34m\u001b[0m\u001b[0m\n\u001b[1;32m    690\u001b[0m \u001b[0;34m\u001b[0m\u001b[0m\n\u001b[0;32m--> 691\u001b[0;31m             \u001b[0mcid\u001b[0m\u001b[0;34m,\u001b[0m \u001b[0mpos\u001b[0m\u001b[0;34m,\u001b[0m \u001b[0mlength\u001b[0m \u001b[0;34m=\u001b[0m \u001b[0mself\u001b[0m\u001b[0;34m.\u001b[0m\u001b[0mpng\u001b[0m\u001b[0;34m.\u001b[0m\u001b[0mread\u001b[0m\u001b[0;34m(\u001b[0m\u001b[0;34m)\u001b[0m\u001b[0;34m\u001b[0m\u001b[0;34m\u001b[0m\u001b[0m\n\u001b[0m\u001b[1;32m    692\u001b[0m \u001b[0;34m\u001b[0m\u001b[0m\n\u001b[1;32m    693\u001b[0m             \u001b[0;32mtry\u001b[0m\u001b[0;34m:\u001b[0m\u001b[0;34m\u001b[0m\u001b[0;34m\u001b[0m\u001b[0m\n",
      "\u001b[0;32m~/opt/anaconda3/envs/instance/lib/python3.7/site-packages/PIL/PngImagePlugin.py\u001b[0m in \u001b[0;36mread\u001b[0;34m(self)\u001b[0m\n\u001b[1;32m    159\u001b[0m             \u001b[0ms\u001b[0m \u001b[0;34m=\u001b[0m \u001b[0mself\u001b[0m\u001b[0;34m.\u001b[0m\u001b[0mfp\u001b[0m\u001b[0;34m.\u001b[0m\u001b[0mread\u001b[0m\u001b[0;34m(\u001b[0m\u001b[0;36m8\u001b[0m\u001b[0;34m)\u001b[0m\u001b[0;34m\u001b[0m\u001b[0;34m\u001b[0m\u001b[0m\n\u001b[1;32m    160\u001b[0m             \u001b[0mcid\u001b[0m \u001b[0;34m=\u001b[0m \u001b[0ms\u001b[0m\u001b[0;34m[\u001b[0m\u001b[0;36m4\u001b[0m\u001b[0;34m:\u001b[0m\u001b[0;34m]\u001b[0m\u001b[0;34m\u001b[0m\u001b[0;34m\u001b[0m\u001b[0m\n\u001b[0;32m--> 161\u001b[0;31m             \u001b[0mpos\u001b[0m \u001b[0;34m=\u001b[0m \u001b[0mself\u001b[0m\u001b[0;34m.\u001b[0m\u001b[0mfp\u001b[0m\u001b[0;34m.\u001b[0m\u001b[0mtell\u001b[0m\u001b[0;34m(\u001b[0m\u001b[0;34m)\u001b[0m\u001b[0;34m\u001b[0m\u001b[0;34m\u001b[0m\u001b[0m\n\u001b[0m\u001b[1;32m    162\u001b[0m             \u001b[0mlength\u001b[0m \u001b[0;34m=\u001b[0m \u001b[0mi32\u001b[0m\u001b[0;34m(\u001b[0m\u001b[0ms\u001b[0m\u001b[0;34m)\u001b[0m\u001b[0;34m\u001b[0m\u001b[0;34m\u001b[0m\u001b[0m\n\u001b[1;32m    163\u001b[0m \u001b[0;34m\u001b[0m\u001b[0m\n",
      "\u001b[0;31mUnsupportedOperation\u001b[0m: seek"
     ]
    },
    {
     "data": {
      "image/png": "[encoded data removed]",
      "text/plain": [
       "<Figure size 864x720 with 1 Axes>"
      ]
     },
     "metadata": {
      "needs_background": "light"
     },
     "output_type": "display_data"
    }
   ],
   "source": [
    "fig = plt.figure(figsize=(12,10))\n",
    "\n",
    "#Custom adjust of the subplots\n",
    "\n",
    "plt.subplots_adjust(left=0.05,right=0.95,top=0.90,bottom=0.05,wspace=0.15,hspace=0.05)\n",
    "\n",
    "ax = plt.subplot(111)\n",
    "italonmin=5.00\n",
    "italonmax=21.\n",
    "italatmin=35.00\n",
    "italatmax=48.00\n",
    "\n",
    "\n",
    "\n",
    "#Let's create a basemap of the world\n",
    "ita=[italonmin,italatmin,italonmax,italatmax]\n",
    "\n",
    "# m = Basemap(resolution='l',projection='robin',lon_0=0)\n",
    "m = Basemap(llcrnrlon=ita[0],llcrnrlat=ita[1],urcrnrlon=ita[2],urcrnrlat=ita[3], epsg=3003)\n",
    "m.arcgisimage(service='World_Shaded_Relief', xpixels = 500, verbose= True)\n",
    "\n",
    "m.drawparallels(np.arange(italatmin,italatmax,2.),linewidth=0.5,labels=[1,0,0,0],fontsize=14)\n",
    "m.drawmeridians(np.arange(italonmin,italonmax,2.),linewidth=0.5,labels=[0,0,0,1],fontsize=14)\n",
    "\n",
    "rsnlat = df_eq['source_latitude_deg'].tolist()\n",
    "rsnlon = df_eq['source_longitude_deg'].tolist()\n",
    "\n",
    "cc = df_eq['source_depth_km'].tolist()\n",
    "sx,sy = m(rsnlon,rsnlat)\n",
    "m.scatter(sx, sy, mag_size, c=cc, cmap='gist_rainbow',marker=\"o\",edgecolor='black', linewidths=0.25, zorder=2)\n",
    "\n",
    "\n",
    "# for i in range(len(rsncode)):\n",
    "#     plt.text(sx[i], sy[i]+up, rsncode[i], ha=\"center\", va=\"bottom\", family=\"monospace\", \n",
    "#              weight=\"bold\",fontsize=fontsize, zorder=5,clip_on=True)\n",
    "\n",
    "p1 = plt.scatter([], [], 2, c = 'w',  marker= \"o\",edgecolors='k', linewidths=0.5,alpha=0.5)\n",
    "p2 = plt.scatter([], [], 8, c = 'w',  marker=\"o\",edgecolors='k', linewidths=0.5,alpha=0.5)\n",
    "p3 = plt.scatter([], [], 16, c = 'w', marker=\"o\",edgecolors='k', linewidths=0.5,alpha=0.5)\n",
    "p4 = plt.scatter([], [], 32, c = 'w', marker=\"o\",edgecolors='k', linewidths=0.5,alpha=0.5)\n",
    "p5 = plt.scatter([], [], 64, c = 'w', marker=\"o\",edgecolors='k', linewidths=0.5,alpha=0.5)\n",
    "p6 = plt.scatter([], [], 128, c = 'w', marker=\"o\",edgecolors='k', linewidths=0.5,alpha=0.5)\n",
    "p7 = plt.scatter([], [], 256, c = 'w', marker=\"o\",edgecolors='k', linewidths=0.5,alpha=0.5)\n",
    "p8 = plt.scatter([], [], 300, facecolor='w', marker=\"o\",edgecolors='k', linewidths=0.5,alpha=0.5)\n",
    "\n",
    "plt.legend([p1,p2,p3,p4,p5,p6,p7,p8],[\"M$\\leq$1\",\"1<M$\\leq$2\",\"2<M$\\leq$3\",\"3<M$\\leq$4\",\"4<M$\\leq$5\",\"5<M$\\leq$6\",\"6<M$\\leq$7\",\"M>7\",],\n",
    "           labelspacing=0.6, loc='lower left', fontsize=14)\n",
    "\n",
    "\n",
    "\n",
    "fig = plt.gcf()\n",
    "mapper.set_array(cc)\n",
    "cbar=fig.colorbar(mapper)\n",
    "cbar.set_label('Depth (km)',fontsize=20)\n",
    "for t in cbar.ax.get_yticklabels():\n",
    "     t.set_fontsize(14)\n",
    "\n",
    "plt.tight_layout()\n",
    "figname=os.path.join(FIGDIR,'Fig_1a.png')\n",
    "plt.savefig(figname,dpi=300)\n",
    "plt.show()"
   ]
  },
  {
   "cell_type": "code",
   "execution_count": null,
   "metadata": {},
   "outputs": [],
   "source": []
  },
  {
   "cell_type": "markdown",
   "metadata": {},
   "source": [
    "## Generate Station Map (Figure 1b)"
   ]
  },
  {
   "cell_type": "code",
   "execution_count": null,
   "metadata": {},
   "outputs": [],
   "source": [
    "# generate first the stations\n",
    "df_sta0 = events_metaData[['station_code','station_latitude_deg','station_longitude_deg']].groupby('station_code').mean()\n",
    "# count using sta_lat as dummy index\n",
    "df_sta1 = events_metaData[['station_code', 'station_latitude_deg']].groupby('station_code').count()\n",
    "# rename\n",
    "df_sta1.rename(columns={\"station_latitude_deg\": \"counts\"},inplace=True)\n",
    "\n",
    "# generate the dataframe\n",
    "df_sta = pd.concat([df_sta0,df_sta1], axis=1)"
   ]
  },
  {
   "cell_type": "code",
   "execution_count": null,
   "metadata": {},
   "outputs": [],
   "source": [
    "# Define symbol dimension as a funcion of number of picks recorded at each seismic station\n",
    "mark_size = []\n",
    "for m in df_sta.counts.values:\n",
    "    if m <= 100: fact  = 10.\n",
    "    if m > 100 and m <= 500: fact  = 20\n",
    "    if m > 500 and m <= 1000: fact  = 40\n",
    "    if m > 1000 and m <= 5000: fact  = 80\n",
    "    if m > 5000: fact  = 160\n",
    "    mark_size.append(int(fact))"
   ]
  },
  {
   "cell_type": "code",
   "execution_count": null,
   "metadata": {},
   "outputs": [],
   "source": [
    "fig = plt.figure(figsize=(12,10))\n",
    "\n",
    "#Custom adjust of the subplots\n",
    "\n",
    "plt.subplots_adjust(left=0.05,right=0.95,top=0.90,bottom=0.05,wspace=0.15,hspace=0.05)\n",
    "\n",
    "ax = plt.subplot(111)\n",
    "italonmin=5.00\n",
    "italonmax=21.\n",
    "italatmin=35.00\n",
    "italatmax=48.00\n",
    "\n",
    "\n",
    "#Let's create a basemap of the world\n",
    "ita=[italonmin,italatmin,italonmax,italatmax]\n",
    "\n",
    "# m = Basemap(resolution='l',projection='robin',lon_0=0)\n",
    "m = Basemap(llcrnrlon=ita[0],llcrnrlat=ita[1],urcrnrlon=ita[2],urcrnrlat=ita[3], epsg=3003)\n",
    "m.arcgisimage(service='World_Shaded_Relief', xpixels = 500, verbose= True)\n",
    "\n",
    "m.drawparallels(np.arange(italatmin,italatmax,2.),linewidth=0.5,labels=[1,0,0,0],fontsize=14)\n",
    "m.drawmeridians(np.arange(italonmin,italonmax,2.),linewidth=0.5,labels=[0,0,0,1],fontsize=14)\n",
    "\n",
    "rsnlat = df_sta['station_latitude_deg'].tolist()\n",
    "rsnlon = df_sta['station_longitude_deg'].tolist()\n",
    "\n",
    "sx,sy = m(rsnlon,rsnlat)\n",
    "m.scatter(sx, sy, mark_size, color=\"r\", marker=\"^\",edgecolor='black',linewidths=0.25, zorder=2)\n",
    "\n",
    "\n",
    "# for i in range(len(rsncode)):\n",
    "#     plt.text(sx[i], sy[i]+up, rsncode[i], ha=\"center\", va=\"bottom\", family=\"monospace\", \n",
    "#              weight=\"bold\",fontsize=fontsize, zorder=5,clip_on=True)\n",
    "\n",
    "p1 = plt.scatter([], [], 10, c = 'r',  marker= \"^\",edgecolors='k', linewidths=0.25,alpha=0.5)\n",
    "p2 = plt.scatter([], [], 20, c = 'r',  marker=\"^\",edgecolors='k', linewidths=0.25,alpha=0.5)\n",
    "p3 = plt.scatter([], [], 40, c = 'r', marker=\"^\",edgecolors='k', linewidths=0.25,alpha=0.5)\n",
    "p4 = plt.scatter([], [], 80, c = 'r', marker=\"^\",edgecolors='k', linewidths=0.25,alpha=0.5)\n",
    "p5 = plt.scatter([], [], 160, c = 'r', marker=\"^\",edgecolors='k', linewidths=0.25,alpha=0.5)\n",
    "\n",
    "plt.legend([p1,p2,p3,p4,p5],[\"n$\\leq$100\",\"100<n$\\leq$500\",\"500<n$\\leq$1000\",\"1000<n$\\leq$5000\",\"n>5000\",],\n",
    "           labelspacing=0.6, loc='lower left', fontsize=14)\n",
    "\n",
    "plt.tight_layout()\n",
    "figname=os.path.join(FIGDIR,'Fig_1b.png')\n",
    "plt.savefig(figname,dpi=300)\n",
    "plt.show()"
   ]
  },
  {
   "cell_type": "code",
   "execution_count": null,
   "metadata": {},
   "outputs": [],
   "source": []
  },
  {
   "cell_type": "markdown",
   "metadata": {},
   "source": [
    "## Generate focal moment tensor map (Figure 2)"
   ]
  },
  {
   "cell_type": "code",
   "execution_count": null,
   "metadata": {},
   "outputs": [],
   "source": [
    "# Create a DataFrame with the events that have the moment tensor solution\n",
    "\n",
    "df_eq0 = events_metaData[['source_id', 'source_latitude_deg','source_longitude_deg','source_depth_km', 'source_magnitude',\n",
    "                   'source_mechanism_strike_dip_rake','source_mechanism_moment_tensor']]\n",
    "\n",
    "df_eq0['source_mechanism_moment_tensor'] = df_eq0['source_mechanism_moment_tensor'].replace(r'^\\s*$', np.nan, regex=True)\n",
    "\n",
    "df_eq0 = df_eq0.dropna().groupby('source_id').first()"
   ]
  },
  {
   "cell_type": "code",
   "execution_count": null,
   "metadata": {},
   "outputs": [],
   "source": [
    "fig = plt.figure(figsize=(12,10))\n",
    "\n",
    "## Symbol color is defined as a function of the rake of the computed fault planes solutions \n",
    "## Symbol size is defined as a function of the source_magnitude\n",
    "\n",
    "plt.subplots_adjust(left=0.05,right=0.95,top=0.90,bottom=0.05,wspace=0.15,hspace=0.05)\n",
    "\n",
    "ax = plt.subplot(111)\n",
    "italonmin=5.00\n",
    "italonmax=21.\n",
    "italatmin=35.00\n",
    "italatmax=48.00\n",
    "\n",
    "\n",
    "\n",
    "#Let's create a basemap of the world\n",
    "ita=[italonmin,italatmin,italonmax,italatmax]\n",
    "\n",
    "# m = Basemap(resolution='l',projection='robin',lon_0=0)\n",
    "m = Basemap(llcrnrlon=ita[0],llcrnrlat=ita[1],urcrnrlon=ita[2],urcrnrlat=ita[3], epsg=3003)\n",
    "m.arcgisimage(service='World_Shaded_Relief', xpixels = 500, verbose= True)\n",
    "\n",
    "m.drawparallels(np.arange(italatmin,italatmax,2.),linewidth=0.5,labels=[1,0,0,0],fontsize=14)\n",
    "m.drawmeridians(np.arange(italonmin,italonmax,2.),linewidth=0.5,labels=[0,0,0,1],fontsize=14)\n",
    "\n",
    "\n",
    "for i, row  in df_eq0.iterrows():\n",
    "\n",
    "    stringa=row['source_mechanism_moment_tensor']\n",
    "    row1 = {}\n",
    "    campi = stringa.split('\\n\\t')\n",
    "    for c in campi[1:]:\n",
    "        comp, value = [x.strip() for x in c.split(':')]\n",
    "        row1[comp] = eval(value)\n",
    "    moment_list = [row1.get('m_rr'),row1.get('m_tt'),row1.get('m_pp'),\n",
    "                   row1.get('m_rt'),row1.get('m_rp'),row1.get('m_tp')]\n",
    "    strike_dip_planes = {}\n",
    "    strike_dip_planes['SDR1'] = MT2plane1(row1)\n",
    "    \n",
    "    rsnlat = row['source_latitude_deg']\n",
    "    rsnlon = row['source_longitude_deg']\n",
    "\n",
    "    sx,sy = m(rsnlon,rsnlat)\n",
    "    width = row['source_magnitude']*7.5e3\n",
    "    strike_dip_planes = {}\n",
    "    strike_dip_planes['SDR1'] = MT2plane1(row1)\n",
    "    rake=strike_dip_planes['SDR1'][2]\n",
    "    if rake > -45 and rake < 45:\n",
    "        col='k'\n",
    "    elif rake > 135 and rake < 225:\n",
    "        col='k'\n",
    "    elif rake >= 45 and rake <= 135:\n",
    "        col='r'\n",
    "    elif rake >= 225 and rake <= 315:\n",
    "        col='b'\n",
    "\n",
    "    ax = plt.gca()\n",
    "    b = beach(moment_list, xy=(sx, sy), facecolor=col, width=width, linewidth=0.25, alpha=1)\n",
    "    b.set_zorder(10)\n",
    "    ax.add_collection(b)\n",
    "\n",
    "\n",
    "fig = plt.gcf()\n",
    "\n",
    "plt.tight_layout()\n",
    "figname=os.path.join(FIGDIR,'Fig_2.png')\n",
    "plt.savefig(figname,dpi=300)\n",
    "plt.show()"
   ]
  },
  {
   "cell_type": "code",
   "execution_count": null,
   "metadata": {},
   "outputs": [],
   "source": []
  }
 ],
 "metadata": {
  "kernelspec": {
   "display_name": "Python 3",
   "language": "python",
   "name": "python3"
  },
  "language_info": {
   "codemirror_mode": {
    "name": "ipython",
    "version": 3
   },
   "file_extension": ".py",
   "mimetype": "text/x-python",
   "name": "python",
   "nbconvert_exporter": "python",
   "pygments_lexer": "ipython3",
   "version": "3.7.10"
  }
 },
 "nbformat": 4,
 "nbformat_minor": 4
}
